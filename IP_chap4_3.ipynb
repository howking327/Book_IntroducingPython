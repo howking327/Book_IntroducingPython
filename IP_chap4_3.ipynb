{
 "cells": [
  {
   "cell_type": "markdown",
   "metadata": {},
   "source": [
    "## 제너레이터"
   ]
  },
  {
   "cell_type": "code",
   "execution_count": 1,
   "metadata": {},
   "outputs": [
    {
     "data": {
      "text/plain": [
       "5050"
      ]
     },
     "execution_count": 1,
     "metadata": {},
     "output_type": "execute_result"
    }
   ],
   "source": [
    "sum(range(1, 101))"
   ]
  },
  {
   "cell_type": "code",
   "execution_count": 11,
   "metadata": {},
   "outputs": [],
   "source": [
    "def my_range(first=0, last=10, step=1):\n",
    "    number = first\n",
    "    while number < last:\n",
    "        yield number\n",
    "        number += step"
   ]
  },
  {
   "cell_type": "code",
   "execution_count": 12,
   "metadata": {},
   "outputs": [
    {
     "data": {
      "text/plain": [
       "<function __main__.my_range(first=0, last=10, step=1)>"
      ]
     },
     "execution_count": 12,
     "metadata": {},
     "output_type": "execute_result"
    }
   ],
   "source": [
    "my_range"
   ]
  },
  {
   "cell_type": "code",
   "execution_count": 14,
   "metadata": {},
   "outputs": [
    {
     "data": {
      "text/plain": [
       "<generator object my_range at 0x00000209AC2F4C50>"
      ]
     },
     "execution_count": 14,
     "metadata": {},
     "output_type": "execute_result"
    }
   ],
   "source": [
    "ranger = my_range(1,5)\n",
    "ranger"
   ]
  },
  {
   "cell_type": "code",
   "execution_count": 15,
   "metadata": {},
   "outputs": [
    {
     "name": "stdout",
     "output_type": "stream",
     "text": [
      "1\n",
      "2\n",
      "3\n",
      "4\n"
     ]
    }
   ],
   "source": [
    "for x in ranger:\n",
    "    print(x)"
   ]
  },
  {
   "cell_type": "markdown",
   "metadata": {},
   "source": [
    "## 데커레이터"
   ]
  },
  {
   "cell_type": "code",
   "execution_count": 1,
   "metadata": {},
   "outputs": [],
   "source": [
    "def document_it(func):\n",
    "    def new_function(*args, **kwargs):\n",
    "        print('Running function:', func.__name__)\n",
    "        print('Positional arguments:', args)\n",
    "        print('Keyword arguments:', kwargs)\n",
    "        result = func(*args, **kwargs)\n",
    "        print('Result:', result)\n",
    "        return result\n",
    "    return new_function"
   ]
  },
  {
   "cell_type": "code",
   "execution_count": 2,
   "metadata": {},
   "outputs": [],
   "source": [
    "def add_ints(a,b):\n",
    "    return a + b"
   ]
  },
  {
   "cell_type": "code",
   "execution_count": 3,
   "metadata": {},
   "outputs": [
    {
     "data": {
      "text/plain": [
       "8"
      ]
     },
     "execution_count": 3,
     "metadata": {},
     "output_type": "execute_result"
    }
   ],
   "source": [
    "add_ints(3,5)"
   ]
  },
  {
   "cell_type": "code",
   "execution_count": 4,
   "metadata": {},
   "outputs": [
    {
     "name": "stdout",
     "output_type": "stream",
     "text": [
      "Running function: add_ints\n",
      "Positional arguments: (3, 5)\n",
      "Keyword arguments: {}\n",
      "Result: 8\n"
     ]
    },
    {
     "data": {
      "text/plain": [
       "8"
      ]
     },
     "execution_count": 4,
     "metadata": {},
     "output_type": "execute_result"
    }
   ],
   "source": [
    "cooler_add_ints = document_it(add_ints) # 데커레이터를 수동으로 할당\n",
    "cooler_add_ints(3,5)"
   ]
  },
  {
   "cell_type": "code",
   "execution_count": 5,
   "metadata": {},
   "outputs": [
    {
     "name": "stdout",
     "output_type": "stream",
     "text": [
      "Running function: add_ints\n",
      "Positional arguments: (3, 5)\n",
      "Keyword arguments: {}\n",
      "Result: 8\n"
     ]
    },
    {
     "data": {
      "text/plain": [
       "8"
      ]
     },
     "execution_count": 5,
     "metadata": {},
     "output_type": "execute_result"
    }
   ],
   "source": [
    "@document_it\n",
    "def add_ints(a,b):\n",
    "    return a + b\n",
    "\n",
    "add_ints(3,5)"
   ]
  },
  {
   "cell_type": "code",
   "execution_count": 7,
   "metadata": {},
   "outputs": [],
   "source": [
    "def square_it(func):\n",
    "    def new_function(*args, **kwargs):\n",
    "        result = func(*args, **kwargs)\n",
    "        return result * result\n",
    "    return new_function"
   ]
  },
  {
   "cell_type": "code",
   "execution_count": 8,
   "metadata": {},
   "outputs": [
    {
     "name": "stdout",
     "output_type": "stream",
     "text": [
      "Running function: new_function\n",
      "Positional arguments: (3, 5)\n",
      "Keyword arguments: {}\n",
      "Result: 64\n"
     ]
    },
    {
     "data": {
      "text/plain": [
       "64"
      ]
     },
     "execution_count": 8,
     "metadata": {},
     "output_type": "execute_result"
    }
   ],
   "source": [
    "@document_it\n",
    "@square_it\n",
    "def add_ints(a,b):\n",
    "    return a + b\n",
    "\n",
    "add_ints(3,5)"
   ]
  },
  {
   "cell_type": "code",
   "execution_count": 9,
   "metadata": {},
   "outputs": [
    {
     "name": "stdout",
     "output_type": "stream",
     "text": [
      "Running function: add_ints\n",
      "Positional arguments: (3, 5)\n",
      "Keyword arguments: {}\n",
      "Result: 8\n"
     ]
    },
    {
     "data": {
      "text/plain": [
       "64"
      ]
     },
     "execution_count": 9,
     "metadata": {},
     "output_type": "execute_result"
    }
   ],
   "source": [
    "@square_it\n",
    "@document_it\n",
    "def add_ints(a,b):\n",
    "    return a + b\n",
    "\n",
    "add_ints(3,5)"
   ]
  },
  {
   "cell_type": "markdown",
   "metadata": {},
   "source": [
    "## 네임스페이스와 스코프"
   ]
  },
  {
   "cell_type": "code",
   "execution_count": 10,
   "metadata": {},
   "outputs": [
    {
     "name": "stdout",
     "output_type": "stream",
     "text": [
      "at the top level: fruitbat\n",
      "inside print_global: fruitbat\n"
     ]
    }
   ],
   "source": [
    "animal = 'fruitbat'\n",
    "def print_global():\n",
    "    print('inside print_global:', animal)\n",
    "    \n",
    "print('at the top level:', animal)\n",
    "print_global()"
   ]
  },
  {
   "cell_type": "code",
   "execution_count": 11,
   "metadata": {},
   "outputs": [
    {
     "ename": "UnboundLocalError",
     "evalue": "local variable 'animal' referenced before assignment",
     "output_type": "error",
     "traceback": [
      "\u001b[1;31m---------------------------------------------------------------------------\u001b[0m",
      "\u001b[1;31mUnboundLocalError\u001b[0m                         Traceback (most recent call last)",
      "\u001b[1;32m<ipython-input-11-c069aa56fb8b>\u001b[0m in \u001b[0;36m<module>\u001b[1;34m\u001b[0m\n\u001b[0;32m      4\u001b[0m     \u001b[0mprint\u001b[0m\u001b[1;33m(\u001b[0m\u001b[1;34m'after the change:'\u001b[0m\u001b[1;33m,\u001b[0m \u001b[0manimal\u001b[0m\u001b[1;33m)\u001b[0m\u001b[1;33m\u001b[0m\u001b[1;33m\u001b[0m\u001b[0m\n\u001b[0;32m      5\u001b[0m \u001b[1;33m\u001b[0m\u001b[0m\n\u001b[1;32m----> 6\u001b[1;33m \u001b[0mchange_and_print_global\u001b[0m\u001b[1;33m(\u001b[0m\u001b[1;33m)\u001b[0m\u001b[1;33m\u001b[0m\u001b[1;33m\u001b[0m\u001b[0m\n\u001b[0m",
      "\u001b[1;32m<ipython-input-11-c069aa56fb8b>\u001b[0m in \u001b[0;36mchange_and_print_global\u001b[1;34m()\u001b[0m\n\u001b[0;32m      1\u001b[0m \u001b[1;32mdef\u001b[0m \u001b[0mchange_and_print_global\u001b[0m\u001b[1;33m(\u001b[0m\u001b[1;33m)\u001b[0m\u001b[1;33m:\u001b[0m\u001b[1;33m\u001b[0m\u001b[1;33m\u001b[0m\u001b[0m\n\u001b[1;32m----> 2\u001b[1;33m     \u001b[0mprint\u001b[0m\u001b[1;33m(\u001b[0m\u001b[1;34m'inside chage_and_print_global:'\u001b[0m\u001b[1;33m,\u001b[0m \u001b[0manimal\u001b[0m\u001b[1;33m)\u001b[0m\u001b[1;33m\u001b[0m\u001b[1;33m\u001b[0m\u001b[0m\n\u001b[0m\u001b[0;32m      3\u001b[0m     \u001b[0manimal\u001b[0m \u001b[1;33m=\u001b[0m \u001b[1;34m'wombat'\u001b[0m\u001b[1;33m\u001b[0m\u001b[1;33m\u001b[0m\u001b[0m\n\u001b[0;32m      4\u001b[0m     \u001b[0mprint\u001b[0m\u001b[1;33m(\u001b[0m\u001b[1;34m'after the change:'\u001b[0m\u001b[1;33m,\u001b[0m \u001b[0manimal\u001b[0m\u001b[1;33m)\u001b[0m\u001b[1;33m\u001b[0m\u001b[1;33m\u001b[0m\u001b[0m\n\u001b[0;32m      5\u001b[0m \u001b[1;33m\u001b[0m\u001b[0m\n",
      "\u001b[1;31mUnboundLocalError\u001b[0m: local variable 'animal' referenced before assignment"
     ]
    }
   ],
   "source": [
    "def change_and_print_global():\n",
    "    print('inside chage_and_print_global:', animal)\n",
    "    animal = 'wombat'\n",
    "    print('after the change:', animal)\n",
    "    \n",
    "change_and_print_global()"
   ]
  },
  {
   "cell_type": "code",
   "execution_count": 12,
   "metadata": {},
   "outputs": [
    {
     "name": "stdout",
     "output_type": "stream",
     "text": [
      "inside change_local: wombat 2166069050928\n",
      "fruitbat\n",
      "2166048081072\n"
     ]
    }
   ],
   "source": [
    "def change_local():\n",
    "    animal = 'wombat'\n",
    "    print('inside change_local:', animal, id(animal))\n",
    "    \n",
    "change_local()\n",
    "print(animal)\n",
    "print(id(animal))"
   ]
  },
  {
   "cell_type": "code",
   "execution_count": 14,
   "metadata": {},
   "outputs": [
    {
     "name": "stdout",
     "output_type": "stream",
     "text": [
      "fruitbat\n",
      "inside change_and_print_global: wombat\n",
      "wombat\n"
     ]
    }
   ],
   "source": [
    "animal = 'fruitbat'\n",
    "def change_and_print_global():\n",
    "    global animal\n",
    "    animal = 'wombat'\n",
    "    print('inside change_and_print_global:', animal)\n",
    "\n",
    "print(animal)\n",
    "change_and_print_global()\n",
    "print(animal)"
   ]
  },
  {
   "cell_type": "code",
   "execution_count": 15,
   "metadata": {},
   "outputs": [],
   "source": [
    "# 함수 안에 global 키워드를 사용하지 않으면 파이썬은 로컬 네임스페이스를 사용하고 변수는 지역 변수가 된다.\n",
    "# 지역 변수는 함수를 수행한 뒤 사라진다. 파이썬은 네임스페이스의 내용을 접근하기 위해 두 가지 함수를 제공한다.\n",
    "# - locals()  /  - globals()"
   ]
  },
  {
   "cell_type": "code",
   "execution_count": 19,
   "metadata": {},
   "outputs": [
    {
     "name": "stdout",
     "output_type": "stream",
     "text": [
      "fruitbat\n",
      "locals: {'animal': 'wombat'}\n"
     ]
    }
   ],
   "source": [
    "animal = 'fruitbat'\n",
    "def change_local():\n",
    "    animal = 'wombat' # 지역 변수\n",
    "    print('locals:', locals())\n",
    "    \n",
    "print(animal)\n",
    "change_local()"
   ]
  },
  {
   "cell_type": "code",
   "execution_count": 20,
   "metadata": {
    "scrolled": true
   },
   "outputs": [
    {
     "name": "stdout",
     "output_type": "stream",
     "text": [
      "globals: {'__name__': '__main__', '__doc__': 'Automatically created module for IPython interactive environment', '__package__': None, '__loader__': None, '__spec__': None, '__builtin__': <module 'builtins' (built-in)>, '__builtins__': <module 'builtins' (built-in)>, '_ih': ['', \"def document_it(func):\\n    def new_function(*args, **kwargs):\\n        print('Running function:', func.__name__)\\n        print('Positional arguments:', args)\\n        print('Keyword arguments:', kwargs)\\n        result = func(*args, **kwargs)\\n        print('Result:', result)\\n        return result\\n    return new_function\", 'def add_ints(a,b):\\n    return a + b', 'add_ints(3,5)', 'cooler_add_ints = document_it(add_ints) # 데커레이터를 수동으로 할당\\ncooler_add_ints(3,5)', '@document_it\\ndef add_ints(a,b):\\n    return a + b\\n\\nadd_ints(3,5)', 'def square_it(func):\\n    def new_function(*args, **kwargs):\\n        result = func(*args, **kwargs):\\n        return result * result\\n    return new_function', 'def square_it(func):\\n    def new_function(*args, **kwargs):\\n        result = func(*args, **kwargs)\\n        return result * result\\n    return new_function', '@document_it\\n@square_it\\ndef add_ints(a,b):\\n    return a + b\\n\\nadd_ints(3,5)', '@square_it\\n@document_it\\ndef add_ints(a,b):\\n    return a + b\\n\\nadd_ints(3,5)', \"animal = 'fruitbat'\\ndef print_global():\\n    print('inside print_global:', animal)\\n    \\nprint('at the top level:', animal)\\nprint_global()\", \"def change_and_print_global():\\n    print('inside chage_and_print_global:', animal)\\n    animal = 'wombat'\\n    print('after the change:', animal)\\n    \\nchange_and_print_global()\", \"def change_local():\\n    animal = 'wombat'\\n    print('inside change_local:', animal, id(animal))\\n    \\nchange_local()\\nprint(animal)\\nprint(id(animal))\", \"animal = 'fruitbat'\\ndef change_and_print_global():\\n    global animal\\n    animal = 'wombat'\\n    print('inside change_and_print_global:', animal)\\n\\nprint(animal)\\nchage_and_print_global()\\nprint(animal)\", \"animal = 'fruitbat'\\ndef change_and_print_global():\\n    global animal\\n    animal = 'wombat'\\n    print('inside change_and_print_global:', animal)\\n\\nprint(animal)\\nchange_and_print_global()\\nprint(animal)\", '# 함수 안에 global 키워드를 사용하지 않으면 파이썬은 로컬 네임스페이스를 사용하고 변수는 지역 변수가 된다.\\n# 지역 변수는 함수를 수행한 뒤 사라진다. 파이썬은 네임스페이스의 내용을 접근하기 위해 두 가지 함수를 제공한다.\\n# - locals()  /  - globals()', \"animal = 'fruitbat'\\ndef change_local():\\n    animal = 'wombat' # 지역 변수\\n    print('locals', locals())\\n    \\nprint(animal)\\nchange_local()\", \"animal = 'fruitbat'\\ndef change_local():\\n    animal = 'wombat' # 지역 변수\\n    print('locals:', locals())\\n    \\nprint(animal)\\nchange_local()\", \"print('globals:', globals()) # 보여주기 위한 작은 출력 포맷\\nprint(animal)\", \"animal = 'fruitbat'\\ndef change_local():\\n    animal = 'wombat' # 지역 변수\\n    print('locals:', locals())\\n    \\nprint(animal)\\nchange_local()\", \"print('globals:', globals()) # 보여주기 위한 작은 출력 포맷\\nprint(animal)\"], '_oh': {3: 8, 4: 8, 5: 8, 8: 64, 9: 64}, '_dh': ['C:\\\\Users\\\\YEO\\\\Python\\\\introducing_python'], 'In': ['', \"def document_it(func):\\n    def new_function(*args, **kwargs):\\n        print('Running function:', func.__name__)\\n        print('Positional arguments:', args)\\n        print('Keyword arguments:', kwargs)\\n        result = func(*args, **kwargs)\\n        print('Result:', result)\\n        return result\\n    return new_function\", 'def add_ints(a,b):\\n    return a + b', 'add_ints(3,5)', 'cooler_add_ints = document_it(add_ints) # 데커레이터를 수동으로 할당\\ncooler_add_ints(3,5)', '@document_it\\ndef add_ints(a,b):\\n    return a + b\\n\\nadd_ints(3,5)', 'def square_it(func):\\n    def new_function(*args, **kwargs):\\n        result = func(*args, **kwargs):\\n        return result * result\\n    return new_function', 'def square_it(func):\\n    def new_function(*args, **kwargs):\\n        result = func(*args, **kwargs)\\n        return result * result\\n    return new_function', '@document_it\\n@square_it\\ndef add_ints(a,b):\\n    return a + b\\n\\nadd_ints(3,5)', '@square_it\\n@document_it\\ndef add_ints(a,b):\\n    return a + b\\n\\nadd_ints(3,5)', \"animal = 'fruitbat'\\ndef print_global():\\n    print('inside print_global:', animal)\\n    \\nprint('at the top level:', animal)\\nprint_global()\", \"def change_and_print_global():\\n    print('inside chage_and_print_global:', animal)\\n    animal = 'wombat'\\n    print('after the change:', animal)\\n    \\nchange_and_print_global()\", \"def change_local():\\n    animal = 'wombat'\\n    print('inside change_local:', animal, id(animal))\\n    \\nchange_local()\\nprint(animal)\\nprint(id(animal))\", \"animal = 'fruitbat'\\ndef change_and_print_global():\\n    global animal\\n    animal = 'wombat'\\n    print('inside change_and_print_global:', animal)\\n\\nprint(animal)\\nchage_and_print_global()\\nprint(animal)\", \"animal = 'fruitbat'\\ndef change_and_print_global():\\n    global animal\\n    animal = 'wombat'\\n    print('inside change_and_print_global:', animal)\\n\\nprint(animal)\\nchange_and_print_global()\\nprint(animal)\", '# 함수 안에 global 키워드를 사용하지 않으면 파이썬은 로컬 네임스페이스를 사용하고 변수는 지역 변수가 된다.\\n# 지역 변수는 함수를 수행한 뒤 사라진다. 파이썬은 네임스페이스의 내용을 접근하기 위해 두 가지 함수를 제공한다.\\n# - locals()  /  - globals()', \"animal = 'fruitbat'\\ndef change_local():\\n    animal = 'wombat' # 지역 변수\\n    print('locals', locals())\\n    \\nprint(animal)\\nchange_local()\", \"animal = 'fruitbat'\\ndef change_local():\\n    animal = 'wombat' # 지역 변수\\n    print('locals:', locals())\\n    \\nprint(animal)\\nchange_local()\", \"print('globals:', globals()) # 보여주기 위한 작은 출력 포맷\\nprint(animal)\", \"animal = 'fruitbat'\\ndef change_local():\\n    animal = 'wombat' # 지역 변수\\n    print('locals:', locals())\\n    \\nprint(animal)\\nchange_local()\", \"print('globals:', globals()) # 보여주기 위한 작은 출력 포맷\\nprint(animal)\"], 'Out': {3: 8, 4: 8, 5: 8, 8: 64, 9: 64}, 'get_ipython': <bound method InteractiveShell.get_ipython of <ipykernel.zmqshell.ZMQInteractiveShell object at 0x000001F851878D68>>, 'exit': <IPython.core.autocall.ZMQExitAutocall object at 0x000001F85191D668>, 'quit': <IPython.core.autocall.ZMQExitAutocall object at 0x000001F85191D668>, '_': 64, '__': 64, '___': 8, '_i': \"animal = 'fruitbat'\\ndef change_local():\\n    animal = 'wombat' # 지역 변수\\n    print('locals:', locals())\\n    \\nprint(animal)\\nchange_local()\", '_ii': \"print('globals:', globals()) # 보여주기 위한 작은 출력 포맷\\nprint(animal)\", '_iii': \"animal = 'fruitbat'\\ndef change_local():\\n    animal = 'wombat' # 지역 변수\\n    print('locals:', locals())\\n    \\nprint(animal)\\nchange_local()\", '_i1': \"def document_it(func):\\n    def new_function(*args, **kwargs):\\n        print('Running function:', func.__name__)\\n        print('Positional arguments:', args)\\n        print('Keyword arguments:', kwargs)\\n        result = func(*args, **kwargs)\\n        print('Result:', result)\\n        return result\\n    return new_function\", 'document_it': <function document_it at 0x000001F851A23730>, '_i2': 'def add_ints(a,b):\\n    return a + b', 'add_ints': <function square_it.<locals>.new_function at 0x000001F853B49A60>, '_i3': 'add_ints(3,5)', '_3': 8, '_i4': 'cooler_add_ints = document_it(add_ints) # 데커레이터를 수동으로 할당\\ncooler_add_ints(3,5)', 'cooler_add_ints': <function document_it.<locals>.new_function at 0x000001F854466598>, '_4': 8, '_i5': '@document_it\\ndef add_ints(a,b):\\n    return a + b\\n\\nadd_ints(3,5)', '_5': 8, '_i6': 'def square_it(func):\\n    def new_function(*args, **kwargs):\\n        result = func(*args, **kwargs):\\n        return result * result\\n    return new_function', '_i7': 'def square_it(func):\\n    def new_function(*args, **kwargs):\\n        result = func(*args, **kwargs)\\n        return result * result\\n    return new_function', 'square_it': <function square_it at 0x000001F853B49BF8>, '_i8': '@document_it\\n@square_it\\ndef add_ints(a,b):\\n    return a + b\\n\\nadd_ints(3,5)', '_8': 64, '_i9': '@square_it\\n@document_it\\ndef add_ints(a,b):\\n    return a + b\\n\\nadd_ints(3,5)', '_9': 64, '_i10': \"animal = 'fruitbat'\\ndef print_global():\\n    print('inside print_global:', animal)\\n    \\nprint('at the top level:', animal)\\nprint_global()\", 'animal': 'fruitbat', 'print_global': <function print_global at 0x000001F853B49730>, '_i11': \"def change_and_print_global():\\n    print('inside chage_and_print_global:', animal)\\n    animal = 'wombat'\\n    print('after the change:', animal)\\n    \\nchange_and_print_global()\", 'change_and_print_global': <function change_and_print_global at 0x000001F854029C80>, '_i12': \"def change_local():\\n    animal = 'wombat'\\n    print('inside change_local:', animal, id(animal))\\n    \\nchange_local()\\nprint(animal)\\nprint(id(animal))\", 'change_local': <function change_local at 0x000001F854029F28>, '_i13': \"animal = 'fruitbat'\\ndef change_and_print_global():\\n    global animal\\n    animal = 'wombat'\\n    print('inside change_and_print_global:', animal)\\n\\nprint(animal)\\nchage_and_print_global()\\nprint(animal)\", '_i14': \"animal = 'fruitbat'\\ndef change_and_print_global():\\n    global animal\\n    animal = 'wombat'\\n    print('inside change_and_print_global:', animal)\\n\\nprint(animal)\\nchange_and_print_global()\\nprint(animal)\", '_i15': '# 함수 안에 global 키워드를 사용하지 않으면 파이썬은 로컬 네임스페이스를 사용하고 변수는 지역 변수가 된다.\\n# 지역 변수는 함수를 수행한 뒤 사라진다. 파이썬은 네임스페이스의 내용을 접근하기 위해 두 가지 함수를 제공한다.\\n# - locals()  /  - globals()', '_i16': \"animal = 'fruitbat'\\ndef change_local():\\n    animal = 'wombat' # 지역 변수\\n    print('locals', locals())\\n    \\nprint(animal)\\nchange_local()\", '_i17': \"animal = 'fruitbat'\\ndef change_local():\\n    animal = 'wombat' # 지역 변수\\n    print('locals:', locals())\\n    \\nprint(animal)\\nchange_local()\", '_i18': \"print('globals:', globals()) # 보여주기 위한 작은 출력 포맷\\nprint(animal)\", '_i19': \"animal = 'fruitbat'\\ndef change_local():\\n    animal = 'wombat' # 지역 변수\\n    print('locals:', locals())\\n    \\nprint(animal)\\nchange_local()\", '_i20': \"print('globals:', globals()) # 보여주기 위한 작은 출력 포맷\\nprint(animal)\"}\n",
      "fruitbat\n"
     ]
    }
   ],
   "source": [
    "print('globals:', globals()) # 보여주기 위한 작은 출력 포맷\n",
    "print(animal)"
   ]
  },
  {
   "cell_type": "markdown",
   "metadata": {},
   "source": [
    "## 이름에 _ 와  __  사용"
   ]
  },
  {
   "cell_type": "code",
   "execution_count": 21,
   "metadata": {},
   "outputs": [
    {
     "name": "stdout",
     "output_type": "stream",
     "text": [
      "This function is named: amazing\n",
      "And its docstring is: This is the amazing function.\n",
      "    Want to see it again?\n"
     ]
    }
   ],
   "source": [
    "def amazing():\n",
    "    '''This is the amazing function.\n",
    "    Want to see it again?'''\n",
    "    print('This function is named:', amazing.__name__)\n",
    "    print('And its docstring is:', amazing.__doc__)\n",
    "    \n",
    "amazing()"
   ]
  },
  {
   "cell_type": "markdown",
   "metadata": {},
   "source": [
    "## 에러 처리하기: try, except"
   ]
  },
  {
   "cell_type": "code",
   "execution_count": 22,
   "metadata": {},
   "outputs": [
    {
     "ename": "IndexError",
     "evalue": "list index out of range",
     "output_type": "error",
     "traceback": [
      "\u001b[1;31m---------------------------------------------------------------------------\u001b[0m",
      "\u001b[1;31mIndexError\u001b[0m                                Traceback (most recent call last)",
      "\u001b[1;32m<ipython-input-22-9c6845bc1ac8>\u001b[0m in \u001b[0;36m<module>\u001b[1;34m\u001b[0m\n\u001b[0;32m      1\u001b[0m \u001b[0mshort_list\u001b[0m \u001b[1;33m=\u001b[0m \u001b[1;33m[\u001b[0m\u001b[1;36m1\u001b[0m\u001b[1;33m,\u001b[0m\u001b[1;36m2\u001b[0m\u001b[1;33m,\u001b[0m\u001b[1;36m3\u001b[0m\u001b[1;33m]\u001b[0m\u001b[1;33m\u001b[0m\u001b[1;33m\u001b[0m\u001b[0m\n\u001b[0;32m      2\u001b[0m \u001b[0mposition\u001b[0m \u001b[1;33m=\u001b[0m \u001b[1;36m5\u001b[0m\u001b[1;33m\u001b[0m\u001b[1;33m\u001b[0m\u001b[0m\n\u001b[1;32m----> 3\u001b[1;33m \u001b[0mshort_list\u001b[0m\u001b[1;33m[\u001b[0m\u001b[0mposition\u001b[0m\u001b[1;33m]\u001b[0m\u001b[1;33m\u001b[0m\u001b[1;33m\u001b[0m\u001b[0m\n\u001b[0m",
      "\u001b[1;31mIndexError\u001b[0m: list index out of range"
     ]
    }
   ],
   "source": [
    "short_list = [1,2,3]\n",
    "position = 5\n",
    "short_list[position]"
   ]
  },
  {
   "cell_type": "code",
   "execution_count": 23,
   "metadata": {},
   "outputs": [
    {
     "name": "stdout",
     "output_type": "stream",
     "text": [
      "Need a position between 0 and 2 but got 5\n"
     ]
    }
   ],
   "source": [
    "short_list = [1,2,3]\n",
    "position = 5\n",
    "try:\n",
    "    short_list[position]\n",
    "except:\n",
    "    print('Need a position between 0 and', len(short_list)-1, 'but got', position)"
   ]
  },
  {
   "cell_type": "code",
   "execution_count": 24,
   "metadata": {},
   "outputs": [
    {
     "name": "stdout",
     "output_type": "stream",
     "text": [
      "Position [q to quit]? 0\n",
      "1\n",
      "Position [q to quit]? 1\n",
      "2\n",
      "Position [q to quit]? 2\n",
      "3\n",
      "Position [q to quit]? 3\n",
      "Bad index: 3\n",
      "Position [q to quit]? 2\n",
      "3\n",
      "Position [q to quit]? 5\n",
      "Bad index: 5\n",
      "Position [q to quit]? two\n",
      "Something else broke: invalid literal for int() with base 10: 'two'\n",
      "Position [q to quit]? q\n"
     ]
    }
   ],
   "source": [
    "short_list = [1,2,3]\n",
    "while True:\n",
    "    value = input('Position [q to quit]? ')\n",
    "    if value == 'q':\n",
    "        break\n",
    "    try:\n",
    "        position = int(value)\n",
    "        print(short_list[position])\n",
    "    except IndexError as err:\n",
    "        print('Bad index:', position)\n",
    "    except Exception as other:\n",
    "        print('Something else broke:', other)"
   ]
  },
  {
   "cell_type": "markdown",
   "metadata": {},
   "source": [
    "## 예외 만들기"
   ]
  },
  {
   "cell_type": "code",
   "execution_count": 25,
   "metadata": {},
   "outputs": [
    {
     "ename": "UppercaseException",
     "evalue": "MO",
     "output_type": "error",
     "traceback": [
      "\u001b[1;31m---------------------------------------------------------------------------\u001b[0m",
      "\u001b[1;31mUppercaseException\u001b[0m                        Traceback (most recent call last)",
      "\u001b[1;32m<ipython-input-25-442c3da44bcd>\u001b[0m in \u001b[0;36m<module>\u001b[1;34m\u001b[0m\n\u001b[0;32m      5\u001b[0m \u001b[1;32mfor\u001b[0m \u001b[0mword\u001b[0m \u001b[1;32min\u001b[0m \u001b[0mwords\u001b[0m\u001b[1;33m:\u001b[0m\u001b[1;33m\u001b[0m\u001b[1;33m\u001b[0m\u001b[0m\n\u001b[0;32m      6\u001b[0m     \u001b[1;32mif\u001b[0m \u001b[0mword\u001b[0m\u001b[1;33m.\u001b[0m\u001b[0misupper\u001b[0m\u001b[1;33m(\u001b[0m\u001b[1;33m)\u001b[0m\u001b[1;33m:\u001b[0m\u001b[1;33m\u001b[0m\u001b[1;33m\u001b[0m\u001b[0m\n\u001b[1;32m----> 7\u001b[1;33m         \u001b[1;32mraise\u001b[0m \u001b[0mUppercaseException\u001b[0m\u001b[1;33m(\u001b[0m\u001b[0mword\u001b[0m\u001b[1;33m)\u001b[0m\u001b[1;33m\u001b[0m\u001b[1;33m\u001b[0m\u001b[0m\n\u001b[0m",
      "\u001b[1;31mUppercaseException\u001b[0m: MO"
     ]
    }
   ],
   "source": [
    "class UppercaseException(Exception):\n",
    "    pass\n",
    "\n",
    "words = ['eeenie', 'meenie', 'miny', 'MO']\n",
    "for word in words:\n",
    "    if word.isupper():\n",
    "        raise UppercaseException(word)"
   ]
  },
  {
   "cell_type": "code",
   "execution_count": 28,
   "metadata": {},
   "outputs": [
    {
     "name": "stdout",
     "output_type": "stream",
     "text": [
      "panic\n"
     ]
    }
   ],
   "source": [
    "class OopsException(Exception):\n",
    "    pass\n",
    "\n",
    "words = ['eeenie', 'meenie', 'miny', 'MO']\n",
    "for word in words:\n",
    "    if word.isupper():\n",
    "        try:\n",
    "            raise OopsException('panic')\n",
    "        except OopsException as exc:\n",
    "            print(exc)"
   ]
  },
  {
   "cell_type": "markdown",
   "metadata": {},
   "source": [
    "## 4장 연습문제"
   ]
  },
  {
   "cell_type": "code",
   "execution_count": 29,
   "metadata": {},
   "outputs": [
    {
     "name": "stdout",
     "output_type": "stream",
     "text": [
      "just right\n"
     ]
    }
   ],
   "source": [
    "guess_me = 7\n",
    "if guess_me < 7:\n",
    "    print('too low')\n",
    "elif guess_me > 7:\n",
    "    print('too high')\n",
    "else:\n",
    "    print('just right')"
   ]
  },
  {
   "cell_type": "code",
   "execution_count": 32,
   "metadata": {},
   "outputs": [
    {
     "name": "stdout",
     "output_type": "stream",
     "text": [
      "too low 1\n",
      "too low 2\n",
      "too low 3\n",
      "too low 4\n",
      "too low 5\n",
      "too low 6\n",
      "found it! 7\n"
     ]
    }
   ],
   "source": [
    "guess_me = 7\n",
    "start = 1\n",
    "while True:\n",
    "    if guess_me > start:\n",
    "        print('too low', start)\n",
    "    elif guess_me == start:\n",
    "        print('found it!', start)\n",
    "        break\n",
    "    else:\n",
    "        print('oops', start)\n",
    "        break\n",
    "    start += 1"
   ]
  },
  {
   "cell_type": "code",
   "execution_count": 33,
   "metadata": {},
   "outputs": [
    {
     "name": "stdout",
     "output_type": "stream",
     "text": [
      "3\n",
      "2\n",
      "1\n",
      "0\n"
     ]
    }
   ],
   "source": [
    "for i in [3,2,1,0]:\n",
    "    print(i)"
   ]
  },
  {
   "cell_type": "code",
   "execution_count": 36,
   "metadata": {},
   "outputs": [
    {
     "data": {
      "text/plain": [
       "[0, 2, 4, 6, 8]"
      ]
     },
     "execution_count": 36,
     "metadata": {},
     "output_type": "execute_result"
    }
   ],
   "source": [
    "even = [number for number in range(10) if number % 2 == 0]\n",
    "even"
   ]
  },
  {
   "cell_type": "code",
   "execution_count": 37,
   "metadata": {},
   "outputs": [
    {
     "data": {
      "text/plain": [
       "{0: 0, 1: 1, 2: 4, 3: 9, 4: 16, 5: 25, 6: 36, 7: 49, 8: 64, 9: 81}"
      ]
     },
     "execution_count": 37,
     "metadata": {},
     "output_type": "execute_result"
    }
   ],
   "source": [
    "squares = {key: key*key for key in range(10)}\n",
    "squares"
   ]
  },
  {
   "cell_type": "code",
   "execution_count": 38,
   "metadata": {},
   "outputs": [
    {
     "data": {
      "text/plain": [
       "{1, 3, 5, 7, 9}"
      ]
     },
     "execution_count": 38,
     "metadata": {},
     "output_type": "execute_result"
    }
   ],
   "source": [
    "odd = {number for number in range(10) if number % 2 == 1}\n",
    "odd"
   ]
  },
  {
   "cell_type": "code",
   "execution_count": 39,
   "metadata": {},
   "outputs": [
    {
     "name": "stdout",
     "output_type": "stream",
     "text": [
      "Got 0\n",
      "Got 1\n",
      "Got 2\n",
      "Got 3\n",
      "Got 4\n",
      "Got 5\n",
      "Got 6\n",
      "Got 7\n",
      "Got 8\n",
      "Got 9\n"
     ]
    }
   ],
   "source": [
    "for i in ('Got %s' %number for number in range(10)):\n",
    "    print(i)"
   ]
  },
  {
   "cell_type": "code",
   "execution_count": 40,
   "metadata": {},
   "outputs": [
    {
     "data": {
      "text/plain": [
       "['Harry', 'Ron', 'Hermione']"
      ]
     },
     "execution_count": 40,
     "metadata": {},
     "output_type": "execute_result"
    }
   ],
   "source": [
    "def good():\n",
    "    return ['Harry', 'Ron', 'Hermione']\n",
    "\n",
    "good()"
   ]
  },
  {
   "cell_type": "code",
   "execution_count": 41,
   "metadata": {},
   "outputs": [
    {
     "name": "stdout",
     "output_type": "stream",
     "text": [
      "The third odd number is 5\n"
     ]
    }
   ],
   "source": [
    "def get_odds():\n",
    "    for number in range(1,10,2):\n",
    "        yield number\n",
    "        \n",
    "for count, number in enumerate(get_odds(), 1):\n",
    "    if count == 3:\n",
    "        print('The third odd number is', number)\n",
    "        break"
   ]
  },
  {
   "cell_type": "code",
   "execution_count": 44,
   "metadata": {},
   "outputs": [
    {
     "name": "stdout",
     "output_type": "stream",
     "text": [
      "start\n",
      "Greeting, Earthling\n",
      "end\n"
     ]
    }
   ],
   "source": [
    "def test(func):\n",
    "    def new_func(*args, **kwargs):\n",
    "        print('start')\n",
    "        result = func(*args, **kwargs)\n",
    "        print('end')\n",
    "        return result\n",
    "    return new_func\n",
    "\n",
    "@test\n",
    "def greeting():\n",
    "    print('Greeting, Earthling')\n",
    "    \n",
    "greeting()"
   ]
  },
  {
   "cell_type": "code",
   "execution_count": 45,
   "metadata": {},
   "outputs": [
    {
     "ename": "OopsException",
     "evalue": "",
     "output_type": "error",
     "traceback": [
      "\u001b[1;31m---------------------------------------------------------------------------\u001b[0m",
      "\u001b[1;31mOopsException\u001b[0m                             Traceback (most recent call last)",
      "\u001b[1;32m<ipython-input-45-cb661b346929>\u001b[0m in \u001b[0;36m<module>\u001b[1;34m\u001b[0m\n\u001b[0;32m      2\u001b[0m     \u001b[1;32mpass\u001b[0m\u001b[1;33m\u001b[0m\u001b[1;33m\u001b[0m\u001b[0m\n\u001b[0;32m      3\u001b[0m \u001b[1;33m\u001b[0m\u001b[0m\n\u001b[1;32m----> 4\u001b[1;33m \u001b[1;32mraise\u001b[0m \u001b[0mOopsException\u001b[0m\u001b[1;33m(\u001b[0m\u001b[1;33m)\u001b[0m\u001b[1;33m\u001b[0m\u001b[1;33m\u001b[0m\u001b[0m\n\u001b[0m",
      "\u001b[1;31mOopsException\u001b[0m: "
     ]
    }
   ],
   "source": [
    "class OopsException(Exception):\n",
    "    pass\n",
    "\n",
    "raise OopsException()"
   ]
  },
  {
   "cell_type": "code",
   "execution_count": 46,
   "metadata": {},
   "outputs": [
    {
     "name": "stdout",
     "output_type": "stream",
     "text": [
      "Caught an oops\n"
     ]
    }
   ],
   "source": [
    "try:\n",
    "    raise OopsException\n",
    "except OopsException:\n",
    "    print('Caught an oops')"
   ]
  },
  {
   "cell_type": "code",
   "execution_count": 47,
   "metadata": {},
   "outputs": [
    {
     "data": {
      "text/plain": [
       "{'Creature of Habit': 'A nun turns into a mon ster',\n",
       " 'Crewel Fate': 'A haunted yarn shop'}"
      ]
     },
     "execution_count": 47,
     "metadata": {},
     "output_type": "execute_result"
    }
   ],
   "source": [
    "titles = ['Creature of Habit', 'Crewel Fate']\n",
    "plots = ['A nun turns into a mon ster', 'A haunted yarn shop']\n",
    "movies = dict(zip(titles,plots))\n",
    "movies"
   ]
  },
  {
   "cell_type": "code",
   "execution_count": null,
   "metadata": {},
   "outputs": [],
   "source": []
  }
 ],
 "metadata": {
  "kernelspec": {
   "display_name": "Python 3",
   "language": "python",
   "name": "python3"
  },
  "language_info": {
   "codemirror_mode": {
    "name": "ipython",
    "version": 3
   },
   "file_extension": ".py",
   "mimetype": "text/x-python",
   "name": "python",
   "nbconvert_exporter": "python",
   "pygments_lexer": "ipython3",
   "version": "3.6.9"
  }
 },
 "nbformat": 4,
 "nbformat_minor": 2
}
